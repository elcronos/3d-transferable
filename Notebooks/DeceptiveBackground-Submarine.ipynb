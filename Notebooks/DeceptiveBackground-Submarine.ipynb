{
 "cells": [
  {
   "cell_type": "code",
   "execution_count": 11,
   "metadata": {},
   "outputs": [],
   "source": [
    "import os\n",
    "import torch\n",
    "from Optimization import GradientTexturization, run_texturization\n",
    "import warnings\n",
    "warnings.filterwarnings(\"ignore\")\n",
    "import numpy as np\n",
    "from PIL import Image\n",
    "import glob\n",
    "import os\n",
    "\n",
    "BG_PATH = 'outputs_submarine/bg/*'\n",
    "bg_underwater = [bg.replace('outputs_submarine/bg/','/home/USER/Desktop/Adversarial3D/Code/outputs_submarine/bg/') for bg in glob.glob(BG_PATH) if 'underwater' in bg]"
   ]
  },
  {
   "cell_type": "code",
   "execution_count": 21,
   "metadata": {},
   "outputs": [
    {
     "name": "stdout",
     "output_type": "stream",
     "text": [
      "**************************************************\n",
      "submarine - all\n",
      "**************************************************\n",
      "Loading models...\n"
     ]
    },
    {
     "data": {
      "application/vnd.jupyter.widget-view+json": {
       "model_id": "b71271a914f943ddba7f9774ba25d727",
       "version_major": 2,
       "version_minor": 0
      },
      "text/plain": [
       "HBox(children=(FloatProgress(value=0.0, max=500.0), HTML(value='')))"
      ]
     },
     "metadata": {},
     "output_type": "display_data"
    },
    {
     "name": "stdout",
     "output_type": "stream",
     "text": [
      "\n"
     ]
    },
    {
     "data": {
      "image/png": "[encoded data removed]",
      "text/plain": [
       "<Figure size 1080x648 with 5 Axes>"
      ]
     },
     "metadata": {
      "needs_background": "light"
     },
     "output_type": "display_data"
    }
   ],
   "source": [
    "settings = {\n",
    "    'out_path': 'outputs_submarine/killer_whale',\n",
    "    'n_views': 5,\n",
    "    'n_iter': 500,\n",
    "    'lr': 5e-3,\n",
    "    'tv_loss':1e-6,\n",
    "    'image_size': 1024,\n",
    "    'device': torch.device('cuda' if torch.cuda.is_available() else 'cpu'),\n",
    "    'meshes': { \n",
    "        'submarine':{\n",
    "           'init_color': [128.,128.,128.], # Initial RGB color\n",
    "           'inter_cam': [4,20,30,0,40],\n",
    "           'target': 148, #  whale\n",
    "        }\n",
    "    },\n",
    "    # Different Ensembles\n",
    "    'models': {\n",
    "        'all': ['fast_2px','fast_4px','robust_l2_3_0','robust_linf_4','robust_linf_8','densenet','inception'],#,'vgg'],\n",
    "    }\n",
    "}\n",
    "\n",
    "\n",
    "run_texturization(settings, bg=bg_underwater)"
   ]
  },
  {
   "cell_type": "code",
   "execution_count": null,
   "metadata": {},
   "outputs": [],
   "source": []
  }
 ],
 "metadata": {
  "kernelspec": {
   "display_name": "pytorch3d",
   "language": "python",
   "name": "pytorch3d"
  },
  "language_info": {
   "codemirror_mode": {
    "name": "ipython",
    "version": 3
   },
   "file_extension": ".py",
   "mimetype": "text/x-python",
   "name": "python",
   "nbconvert_exporter": "python",
   "pygments_lexer": "ipython3",
   "version": "3.9.6"
  },
  "varInspector": {
   "cols": {
    "lenName": 16,
    "lenType": 16,
    "lenVar": 40
   },
   "kernels_config": {
    "python": {
     "delete_cmd_postfix": "",
     "delete_cmd_prefix": "del ",
     "library": "var_list.py",
     "varRefreshCmd": "print(var_dic_list())"
    },
    "r": {
     "delete_cmd_postfix": ") ",
     "delete_cmd_prefix": "rm(",
     "library": "var_list.r",
     "varRefreshCmd": "cat(var_dic_list()) "
    }
   },
   "types_to_exclude": [
    "module",
    "function",
    "builtin_function_or_method",
    "instance",
    "_Feature"
   ],
   "window_display": false
  }
 },
 "nbformat": 4,
 "nbformat_minor": 2
}
